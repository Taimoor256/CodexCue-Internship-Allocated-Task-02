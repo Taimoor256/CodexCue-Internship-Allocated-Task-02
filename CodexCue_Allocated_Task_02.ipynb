{
  "nbformat": 4,
  "nbformat_minor": 0,
  "metadata": {
    "colab": {
      "provenance": []
    },
    "kernelspec": {
      "name": "python3",
      "display_name": "Python 3"
    },
    "language_info": {
      "name": "python"
    }
  },
  "cells": [
    {
      "cell_type": "markdown",
      "source": [
        "MOUNT DRIVE"
      ],
      "metadata": {
        "id": "dYUvuPQ61CAl"
      }
    },
    {
      "cell_type": "code",
      "source": [
        "from google.colab import drive\n",
        "drive.mount('/content/drive')\n"
      ],
      "metadata": {
        "colab": {
          "base_uri": "https://localhost:8080/"
        },
        "id": "R-PtbS5bmzFA",
        "outputId": "38c78777-75f2-4134-b5ff-69aa94c6863c"
      },
      "execution_count": 1,
      "outputs": [
        {
          "output_type": "stream",
          "name": "stdout",
          "text": [
            "Mounted at /content/drive\n"
          ]
        }
      ]
    },
    {
      "cell_type": "markdown",
      "source": [
        "## **Three Combined models**"
      ],
      "metadata": {
        "id": "vZCQg3JOT4Lh"
      }
    },
    {
      "cell_type": "code",
      "source": [
        "# Importing necessary libraries\n",
        "import pandas as pd\n",
        "from sklearn.model_selection import train_test_split, GridSearchCV, cross_val_score\n",
        "from sklearn.preprocessing import StandardScaler, LabelEncoder\n",
        "from sklearn.metrics import accuracy_score, classification_report\n",
        "from sklearn.linear_model import LogisticRegression\n",
        "from sklearn.tree import DecisionTreeClassifier\n",
        "from sklearn.svm import SVC\n",
        "from sklearn.ensemble import RandomForestClassifier, GradientBoostingClassifier\n",
        "\n",
        "# Step 1: Data Preparation\n",
        "# Load the dataset\n",
        "df = pd.read_csv('/content/drive/MyDrive/emails.csv')\n",
        "\n",
        "# Handling missing values\n",
        "df.fillna(method='ffill', inplace=True)\n",
        "\n",
        "# Encoding categorical variables\n",
        "label_encoders = {}\n",
        "for column in df.select_dtypes(include=['object']).columns:\n",
        "    label_encoders[column] = LabelEncoder()\n",
        "    df[column] = label_encoders[column].fit_transform(df[column])\n",
        "\n",
        "# Scaling numerical features\n",
        "scaler = StandardScaler()\n",
        "numerical_columns = df.select_dtypes(include=['int64', 'float64']).columns\n",
        "df[numerical_columns] = scaler.fit_transform(df[numerical_columns])\n",
        "\n",
        "# Separating features and target variable\n",
        "# Instead of 'Email No.', choose the appropriate column for your target variable\n",
        "# For example, if you have a column named 'spam' indicating whether an email is spam (1) or not (0), use that.\n",
        "print(df.columns)  # Print columns to identify the correct target variable column\n",
        "X = df.drop('spam', axis=1)  # Replace 'spam' with the actual column name\n",
        "y = df['spam']  # Replace 'spam' with the actual column name\n",
        "\n",
        "# Check if the target variable is continuous\n",
        "if y.dtype in ['int64', 'float64']:\n",
        "    # If continuous, convert to categorical if appropriate for your problem.\n",
        "    # For example, you could use a threshold to create binary classes (spam/not spam).\n",
        "    threshold = 0  # Example threshold, adjust as needed\n",
        "    y = (y > threshold).astype(int)  # Convert to 1 (spam) if above threshold, 0 (not spam) otherwise\n",
        "    print(\"Target variable converted to categorical.\")\n",
        "else:\n",
        "    print(\"Target variable is already categorical.\")\n",
        "\n",
        "# ... (Rest of your code remains the same)\n",
        "\n",
        "# Step 2: Model Selection\n",
        "models = {\n",
        "    'Logistic Regression': LogisticRegression(),\n",
        "    'Decision Tree': DecisionTreeClassifier(),\n",
        "    'Support Vector Machine': SVC()\n",
        "}\n",
        "\n",
        "# Step 3: Model Training\n",
        "# Splitting the dataset into training and testing sets\n",
        "X_train, X_test, y_train, y_test = train_test_split(X, y, test_size=0.2, random_state=42)\n",
        "\n",
        "# Training and evaluating models\n",
        "for name, model in models.items():\n",
        "    model.fit(X_train, y_train)\n",
        "    y_pred = model.predict(X_test)\n",
        "\n",
        "    # Step 4: Model Evaluation\n",
        "    accuracy = accuracy_score(y_test, y_pred)\n",
        "    print(f\"Model: {name}\")\n",
        "    print(f\"Accuracy: {accuracy}\")\n",
        "\n",
        "    # Generating Classification Report\n",
        "    print(\"Classification Report:\")\n",
        "    print(classification_report(y_test, y_pred))\n",
        "    print(\"\\n\" + \"=\"*60 + \"\\n\")\n",
        "\n",
        "# Pro Tips: Experiment with ensemble methods and hyperparameter tuning\n",
        "\n",
        "# Random Forest\n",
        "rf = RandomForestClassifier(random_state=42)\n",
        "rf_scores = cross_val_score(rf, X, y, cv=5)\n",
        "print(f\"Random Forest Cross-Validation Score: {rf_scores.mean()}\")\n",
        "\n",
        "# Gradient Boosting\n",
        "gb = GradientBoostingClassifier(random_state=42)\n",
        "gb_scores = cross_val_score(gb, X, y, cv=5)\n",
        "print(f\"Gradient Boosting Cross-Validation Score: {gb_scores.mean()}\")\n",
        "\n",
        "# Hyperparameter Tuning with Grid Search\n",
        "param_grid = {\n",
        "    'n_estimators': [50, 100, 150],\n",
        "    'max_depth': [3, 5, 7],\n",
        "    'learning_rate': [0.01, 0.1, 0.2]\n",
        "}\n",
        "\n",
        "grid_search = GridSearchCV(GradientBoostingClassifier(random_state=42), param_grid, cv=5, scoring='accuracy')\n",
        "grid_search.fit(X_train, y_train)\n",
        "\n",
        "print(\"Best Parameters found by Grid Search:\", grid_search.best_params_)\n",
        "print(\"Best Cross-Validation Score:\", grid_search.best_score_)"
      ],
      "metadata": {
        "colab": {
          "base_uri": "https://localhost:8080/"
        },
        "id": "Xam3BqD221K5",
        "outputId": "a7de5560-2c63-4248-c9fc-cea22db43370"
      },
      "execution_count": 8,
      "outputs": [
        {
          "output_type": "stream",
          "name": "stderr",
          "text": [
            "<ipython-input-8-c2685aa391a1>:16: FutureWarning: DataFrame.fillna with 'method' is deprecated and will raise in a future version. Use obj.ffill() or obj.bfill() instead.\n",
            "  df.fillna(method='ffill', inplace=True)\n"
          ]
        },
        {
          "output_type": "stream",
          "name": "stdout",
          "text": [
            "Index(['Email No.', 'the', 'to', 'ect', 'and', 'for', 'of', 'a', 'you', 'hou',\n",
            "       ...\n",
            "       'connevey', 'jay', 'valued', 'lay', 'infrastructure', 'military',\n",
            "       'allowing', 'ff', 'dry', 'Prediction'],\n",
            "      dtype='object', length=3002)\n",
            "Target variable converted to categorical.\n"
          ]
        },
        {
          "output_type": "stream",
          "name": "stderr",
          "text": [
            "/usr/local/lib/python3.10/dist-packages/sklearn/linear_model/_logistic.py:460: ConvergenceWarning: lbfgs failed to converge (status=1):\n",
            "STOP: TOTAL NO. of ITERATIONS REACHED LIMIT.\n",
            "\n",
            "Increase the number of iterations (max_iter) or scale the data as shown in:\n",
            "    https://scikit-learn.org/stable/modules/preprocessing.html\n",
            "Please also refer to the documentation for alternative solver options:\n",
            "    https://scikit-learn.org/stable/modules/linear_model.html#logistic-regression\n",
            "  n_iter_i = _check_optimize_result(\n"
          ]
        },
        {
          "output_type": "stream",
          "name": "stdout",
          "text": [
            "Model: Logistic Regression\n",
            "Accuracy: 0.9971014492753624\n",
            "Classification Report:\n",
            "              precision    recall  f1-score   support\n",
            "\n",
            "           0       1.00      1.00      1.00      1024\n",
            "           1       0.90      0.82      0.86        11\n",
            "\n",
            "    accuracy                           1.00      1035\n",
            "   macro avg       0.95      0.91      0.93      1035\n",
            "weighted avg       1.00      1.00      1.00      1035\n",
            "\n",
            "\n",
            "============================================================\n",
            "\n",
            "Model: Decision Tree\n",
            "Accuracy: 0.9951690821256038\n",
            "Classification Report:\n",
            "              precision    recall  f1-score   support\n",
            "\n",
            "           0       1.00      1.00      1.00      1024\n",
            "           1       0.75      0.82      0.78        11\n",
            "\n",
            "    accuracy                           1.00      1035\n",
            "   macro avg       0.87      0.91      0.89      1035\n",
            "weighted avg       1.00      1.00      1.00      1035\n",
            "\n",
            "\n",
            "============================================================\n",
            "\n",
            "Model: Support Vector Machine\n",
            "Accuracy: 0.9951690821256038\n",
            "Classification Report:\n",
            "              precision    recall  f1-score   support\n",
            "\n",
            "           0       1.00      1.00      1.00      1024\n",
            "           1       1.00      0.55      0.71        11\n",
            "\n",
            "    accuracy                           1.00      1035\n",
            "   macro avg       1.00      0.77      0.85      1035\n",
            "weighted avg       1.00      1.00      0.99      1035\n",
            "\n",
            "\n",
            "============================================================\n",
            "\n",
            "Random Forest Cross-Validation Score: 0.9945869425055365\n",
            "Gradient Boosting Cross-Validation Score: 0.9943929582597482\n",
            "Best Parameters found by Grid Search: {'learning_rate': 0.1, 'max_depth': 7, 'n_estimators': 100}\n",
            "Best Cross-Validation Score: 0.9944412316211906\n"
          ]
        }
      ]
    },
    {
      "cell_type": "code",
      "source": [],
      "metadata": {
        "id": "ojoHSnOrUICr"
      },
      "execution_count": null,
      "outputs": []
    },
    {
      "cell_type": "markdown",
      "source": [
        "# **Logistic Regression Model & Classification Report**"
      ],
      "metadata": {
        "id": "gk17g2a5T-wM"
      }
    },
    {
      "cell_type": "code",
      "source": [
        "# Importing necessary libraries\n",
        "import pandas as pd\n",
        "from sklearn.model_selection import train_test_split, cross_val_score\n",
        "from sklearn.preprocessing import StandardScaler, LabelEncoder\n",
        "from sklearn.metrics import accuracy_score, precision_score, recall_score, f1_score, classification_report, confusion_matrix\n",
        "from sklearn.linear_model import LogisticRegression\n",
        "\n",
        "# Step 1: Data Preparation\n",
        "# Load the dataset\n",
        "df = pd.read_csv('/content/drive/MyDrive/emails.csv')\n",
        "\n",
        "# Handling missing values\n",
        "df.fillna(method='ffill', inplace=True)\n",
        "\n",
        "# Encoding categorical variables\n",
        "label_encoders = {}\n",
        "for column in df.select_dtypes(include=['object']).columns:\n",
        "    label_encoders[column] = LabelEncoder()\n",
        "    df[column] = label_encoders[column].fit_transform(df[column])\n",
        "\n",
        "# Scaling numerical features\n",
        "scaler = StandardScaler()\n",
        "numerical_columns = df.select_dtypes(include=['int64', 'float64']).columns\n",
        "df[numerical_columns] = scaler.fit_transform(df[numerical_columns])\n",
        "\n",
        "# Separating features and target variable\n",
        "X = df.drop('spam', axis=1)  # Replace 'spam' with the actual column name if different\n",
        "y = df['spam']\n",
        "\n",
        "# Ensure the target variable is binary (0 or 1)\n",
        "# Adjust the condition and conversion logic as needed for your specific problem\n",
        "if y.dtype in ['int64', 'float64']:\n",
        "    threshold = 0.5  # Example threshold, adjust as needed\n",
        "    y = (y > threshold).astype(int)  # Convert to 1 if above threshold, 0 otherwise\n",
        "    print(\"Target variable converted to binary.\")\n",
        "\n",
        "# Step 2: Model Selection\n",
        "# Using Logistic Regression as the chosen model\n",
        "model = LogisticRegression()\n",
        "\n",
        "# Step 3: Model Training\n",
        "# Splitting the dataset into training and testing sets\n",
        "X_train, X_test, y_train, y_test = train_test_split(X, y, test_size=0.2, random_state=42)\n",
        "\n",
        "# Training the Logistic Regression model\n",
        "model.fit(X_train, y_train)\n",
        "\n",
        "# Step 4: Model Evaluation\n",
        "# Predicting on the test data\n",
        "y_pred = model.predict(X_test)\n",
        "\n",
        "# Calculating evaluation metrics\n",
        "accuracy = accuracy_score(y_test, y_pred)\n",
        "precision = precision_score(y_test, y_pred)\n",
        "recall = recall_score(y_test, y_pred)\n",
        "f1 = f1_score(y_test, y_pred)\n",
        "\n",
        "# Printing the evaluation metrics\n",
        "print(f\"Accuracy: {accuracy}\")\n",
        "print(f\"Precision: {precision}\")\n",
        "print(f\"Recall: {recall}\")\n",
        "print(f\"F1 Score: {f1}\")\n",
        "\n",
        "# Generating and printing the Classification Report\n",
        "print(\"\\nClassification Report:\")\n",
        "print(classification_report(y_test, y_pred))\n",
        "\n",
        "# Generating and printing the Classification Report\n",
        "print(\"\\nClassification Report:\")\n",
        "print(classification_report(y_test, y_pred))\n",
        "\n",
        "# Creating and displaying the confusion matrix\n",
        "conf_matrix = confusion_matrix(y_test, y_pred)\n",
        "print(\"\\nConfusion Matrix:\")\n",
        "print(conf_matrix)\n",
        "\n",
        "# Visualizing the confusion matrix using Seaborn\n",
        "sns.heatmap(conf_matrix, annot=True, fmt=\"d\", cmap=\"Blues\", xticklabels=[\"Not Spam\", \"Spam\"], yticklabels=[\"Not Spam\", \"Spam\"])\n",
        "plt.xlabel('Predicted Labels')\n",
        "plt.ylabel('True Labels')\n",
        "plt.title('Confusion Matrix')\n",
        "plt.show()\n",
        "\n",
        "# Cross-validation to ensure generalization\n",
        "cross_val_scores = cross_val_score(model, X, y, cv=5)\n",
        "print(f\"\\nCross-Validation Scores: {cross_val_scores}\")\n",
        "print(f\"Mean Cross-Validation Score: {cross_val_scores.mean()}\")"
      ],
      "metadata": {
        "colab": {
          "base_uri": "https://localhost:8080/",
          "height": 1000
        },
        "id": "y3YW20CoOc4b",
        "outputId": "97f0d9f8-e889-4a24-a829-8e7d73a84af8"
      },
      "execution_count": 13,
      "outputs": [
        {
          "output_type": "stream",
          "name": "stderr",
          "text": [
            "<ipython-input-13-80b5a0d2c020>:13: FutureWarning: DataFrame.fillna with 'method' is deprecated and will raise in a future version. Use obj.ffill() or obj.bfill() instead.\n",
            "  df.fillna(method='ffill', inplace=True)\n"
          ]
        },
        {
          "output_type": "stream",
          "name": "stdout",
          "text": [
            "Target variable converted to binary.\n"
          ]
        },
        {
          "output_type": "stream",
          "name": "stderr",
          "text": [
            "/usr/local/lib/python3.10/dist-packages/sklearn/linear_model/_logistic.py:460: ConvergenceWarning: lbfgs failed to converge (status=1):\n",
            "STOP: TOTAL NO. of ITERATIONS REACHED LIMIT.\n",
            "\n",
            "Increase the number of iterations (max_iter) or scale the data as shown in:\n",
            "    https://scikit-learn.org/stable/modules/preprocessing.html\n",
            "Please also refer to the documentation for alternative solver options:\n",
            "    https://scikit-learn.org/stable/modules/linear_model.html#logistic-regression\n",
            "  n_iter_i = _check_optimize_result(\n"
          ]
        },
        {
          "output_type": "stream",
          "name": "stdout",
          "text": [
            "Accuracy: 0.9971014492753624\n",
            "Precision: 0.9\n",
            "Recall: 0.8181818181818182\n",
            "F1 Score: 0.8571428571428572\n",
            "\n",
            "Classification Report:\n",
            "              precision    recall  f1-score   support\n",
            "\n",
            "           0       1.00      1.00      1.00      1024\n",
            "           1       0.90      0.82      0.86        11\n",
            "\n",
            "    accuracy                           1.00      1035\n",
            "   macro avg       0.95      0.91      0.93      1035\n",
            "weighted avg       1.00      1.00      1.00      1035\n",
            "\n",
            "\n",
            "Classification Report:\n",
            "              precision    recall  f1-score   support\n",
            "\n",
            "           0       1.00      1.00      1.00      1024\n",
            "           1       0.90      0.82      0.86        11\n",
            "\n",
            "    accuracy                           1.00      1035\n",
            "   macro avg       0.95      0.91      0.93      1035\n",
            "weighted avg       1.00      1.00      1.00      1035\n",
            "\n",
            "\n",
            "Confusion Matrix:\n",
            "[[1023    1]\n",
            " [   2    9]]\n"
          ]
        },
        {
          "output_type": "display_data",
          "data": {
            "text/plain": [
              "<Figure size 640x480 with 2 Axes>"
            ],
            "image/png": "[encoded data removed]"
          },
          "metadata": {}
        },
        {
          "output_type": "stream",
          "name": "stderr",
          "text": [
            "/usr/local/lib/python3.10/dist-packages/sklearn/linear_model/_logistic.py:460: ConvergenceWarning: lbfgs failed to converge (status=1):\n",
            "STOP: TOTAL NO. of ITERATIONS REACHED LIMIT.\n",
            "\n",
            "Increase the number of iterations (max_iter) or scale the data as shown in:\n",
            "    https://scikit-learn.org/stable/modules/preprocessing.html\n",
            "Please also refer to the documentation for alternative solver options:\n",
            "    https://scikit-learn.org/stable/modules/linear_model.html#logistic-regression\n",
            "  n_iter_i = _check_optimize_result(\n",
            "/usr/local/lib/python3.10/dist-packages/sklearn/linear_model/_logistic.py:460: ConvergenceWarning: lbfgs failed to converge (status=1):\n",
            "STOP: TOTAL NO. of ITERATIONS REACHED LIMIT.\n",
            "\n",
            "Increase the number of iterations (max_iter) or scale the data as shown in:\n",
            "    https://scikit-learn.org/stable/modules/preprocessing.html\n",
            "Please also refer to the documentation for alternative solver options:\n",
            "    https://scikit-learn.org/stable/modules/linear_model.html#logistic-regression\n",
            "  n_iter_i = _check_optimize_result(\n",
            "/usr/local/lib/python3.10/dist-packages/sklearn/linear_model/_logistic.py:460: ConvergenceWarning: lbfgs failed to converge (status=1):\n",
            "STOP: TOTAL NO. of ITERATIONS REACHED LIMIT.\n",
            "\n",
            "Increase the number of iterations (max_iter) or scale the data as shown in:\n",
            "    https://scikit-learn.org/stable/modules/preprocessing.html\n",
            "Please also refer to the documentation for alternative solver options:\n",
            "    https://scikit-learn.org/stable/modules/linear_model.html#logistic-regression\n",
            "  n_iter_i = _check_optimize_result(\n"
          ]
        },
        {
          "output_type": "stream",
          "name": "stdout",
          "text": [
            "\n",
            "Cross-Validation Scores: [0.9884058  0.99806763 0.99323017 0.99709865 0.99516441]\n",
            "Mean Cross-Validation Score: 0.9943933320251543\n"
          ]
        },
        {
          "output_type": "stream",
          "name": "stderr",
          "text": [
            "/usr/local/lib/python3.10/dist-packages/sklearn/linear_model/_logistic.py:460: ConvergenceWarning: lbfgs failed to converge (status=1):\n",
            "STOP: TOTAL NO. of ITERATIONS REACHED LIMIT.\n",
            "\n",
            "Increase the number of iterations (max_iter) or scale the data as shown in:\n",
            "    https://scikit-learn.org/stable/modules/preprocessing.html\n",
            "Please also refer to the documentation for alternative solver options:\n",
            "    https://scikit-learn.org/stable/modules/linear_model.html#logistic-regression\n",
            "  n_iter_i = _check_optimize_result(\n"
          ]
        }
      ]
    },
    {
      "cell_type": "markdown",
      "source": [
        "# **Decision Tree & Classification Report**"
      ],
      "metadata": {
        "id": "amcXo8K7UMMt"
      }
    },
    {
      "cell_type": "code",
      "source": [
        "import pandas as pd\n",
        "from sklearn.model_selection import train_test_split, cross_val_score\n",
        "from sklearn.preprocessing import StandardScaler\n",
        "from sklearn.ensemble import RandomForestClassifier\n",
        "from sklearn.metrics import classification_report, confusion_matrix, accuracy_score, precision_score, recall_score, f1_score\n",
        "\n",
        "# Load the dataset\n",
        "df = pd.read_csv('/content/drive/MyDrive/emails.csv')\n",
        "\n",
        "# Drop the \"Email No.\" column\n",
        "df = df.drop(columns=[\"Email No.\"])\n",
        "\n",
        "# Check for missing values\n",
        "if df.isnull().sum().sum() > 0:\n",
        "    df = df.dropna()\n",
        "\n",
        "# Split the data into features and target variable\n",
        "X = df.drop(columns=[\"Prediction\"])\n",
        "y = df[\"Prediction\"]\n",
        "\n",
        "# Scale the numerical features\n",
        "scaler = StandardScaler()\n",
        "X_scaled = scaler.fit_transform(X)\n",
        "\n",
        "# Split the dataset into training and testing sets\n",
        "X_train, X_test, y_train, y_test = train_test_split(X_scaled, y, test_size=0.3, random_state=42)\n",
        "\n",
        "# Train a Random Forest classifier\n",
        "model = RandomForestClassifier(random_state=42)\n",
        "model.fit(X_train, y_train)\n",
        "\n",
        "# Predict on the test data\n",
        "y_pred = model.predict(X_test)\n",
        "\n",
        "# Evaluate the model\n",
        "conf_matrix = confusion_matrix(y_test, y_pred)\n",
        "class_report = classification_report(y_test, y_pred)\n",
        "accuracy = accuracy_score(y_test, y_pred)\n",
        "precision = precision_score(y_test, y_pred, average='weighted')\n",
        "recall = recall_score(y_test, y_pred, average='weighted')\n",
        "f1 = f1_score(y_test, y_pred, average='weighted')\n",
        "\n",
        "# Perform cross-validation\n",
        "cross_val_scores = cross_val_score(model, X_scaled, y, cv=5)\n",
        "# Creating and displaying the confusion matrix\n",
        "conf_matrix = confusion_matrix(y_test, y_pred)\n",
        "print(\"\\nConfusion Matrix:\")\n",
        "print(conf_matrix)\n",
        "\n",
        "# Visualizing the confusion matrix using Seaborn\n",
        "sns.heatmap(conf_matrix, annot=True, fmt=\"d\", cmap=\"Blues\", xticklabels=[\"Not Spam\", \"Spam\"], yticklabels=[\"Not Spam\", \"Spam\"])\n",
        "plt.xlabel('Predicted Labels')\n",
        "plt.ylabel('True Labels')\n",
        "plt.title('Confusion Matrix')\n",
        "plt.show()\n",
        "\n",
        "# Output the results\n",
        "print(\"Confusion Matrix:\\n\", conf_matrix)\n",
        "print(\"\\nClassification Report:\\n\", class_report)\n",
        "print(\"Accuracy: {:.2f}%\".format(accuracy * 100))\n",
        "print(\"Precision: {:.2f}%\".format(precision * 100))\n",
        "print(\"Recall: {:.2f}%\".format(recall * 100))\n",
        "print(\"F1-Score: {:.2f}%\".format(f1 * 100))\n",
        "print(\"\\nCross-Validation Mean Accuracy: {:.2f}%\".format(cross_val_scores.mean() * 100))\n"
      ],
      "metadata": {
        "colab": {
          "base_uri": "https://localhost:8080/",
          "height": 889
        },
        "id": "ynC7oBUZUS_a",
        "outputId": "e4ff80ee-0198-4428-dc0e-723befcebbd8"
      },
      "execution_count": 20,
      "outputs": [
        {
          "output_type": "stream",
          "name": "stdout",
          "text": [
            "\n",
            "Confusion Matrix:\n",
            "[[1079   18]\n",
            " [  19  436]]\n"
          ]
        },
        {
          "output_type": "display_data",
          "data": {
            "text/plain": [
              "<Figure size 640x480 with 2 Axes>"
            ],
            "image/png": "[encoded data removed]"
          },
          "metadata": {}
        },
        {
          "output_type": "stream",
          "name": "stdout",
          "text": [
            "Confusion Matrix:\n",
            " [[1079   18]\n",
            " [  19  436]]\n",
            "\n",
            "Classification Report:\n",
            "               precision    recall  f1-score   support\n",
            "\n",
            "           0       0.98      0.98      0.98      1097\n",
            "           1       0.96      0.96      0.96       455\n",
            "\n",
            "    accuracy                           0.98      1552\n",
            "   macro avg       0.97      0.97      0.97      1552\n",
            "weighted avg       0.98      0.98      0.98      1552\n",
            "\n",
            "Accuracy: 97.62%\n",
            "Precision: 97.61%\n",
            "Recall: 97.62%\n",
            "F1-Score: 97.62%\n",
            "\n",
            "Cross-Validation Mean Accuracy: 95.75%\n"
          ]
        }
      ]
    },
    {
      "cell_type": "markdown",
      "source": [
        "# **SVM & Classification report**"
      ],
      "metadata": {
        "id": "L9GyGNMYa88b"
      }
    },
    {
      "cell_type": "code",
      "source": [
        "import pandas as pd\n",
        "from sklearn.model_selection import train_test_split, cross_val_score\n",
        "from sklearn.preprocessing import StandardScaler\n",
        "from sklearn.svm import SVC\n",
        "from sklearn.metrics import classification_report, confusion_matrix, accuracy_score, precision_score, recall_score, f1_score\n",
        "\n",
        "# Load the dataset\n",
        "df = pd.read_csv('/content/drive/MyDrive/emails.csv')\n",
        "\n",
        "# Data Preparation\n",
        "# Drop the \"Email No.\" column (assuming it's irrelevant for classification)\n",
        "df = df.drop(columns=[\"Email No.\"])\n",
        "\n",
        "# Handle missing values by dropping rows with any missing data\n",
        "df = df.dropna()\n",
        "\n",
        "# Split the data into features and target variable\n",
        "X = df.drop(columns=[\"Prediction\"])\n",
        "y = df[\"Prediction\"]\n",
        "\n",
        "# Scale the numerical features\n",
        "scaler = StandardScaler()\n",
        "X_scaled = scaler.fit_transform(X)\n",
        "\n",
        "# Model Training\n",
        "# Split the dataset into training and testing sets\n",
        "X_train, X_test, y_train, y_test = train_test_split(X_scaled, y, test_size=0.3, random_state=42)\n",
        "\n",
        "# Train the SVM classifier\n",
        "svm_model = SVC(random_state=42)\n",
        "svm_model.fit(X_train, y_train)\n",
        "\n",
        "# Predict on the test data\n",
        "y_pred = svm_model.predict(X_test)\n",
        "\n",
        "# Model Evaluation\n",
        "# Generate the confusion matrix\n",
        "conf_matrix = confusion_matrix(y_test, y_pred)\n",
        "\n",
        "# Generate the classification report\n",
        "class_report = classification_report(y_test, y_pred)\n",
        "# Creating and displaying the confusion matrix\n",
        "conf_matrix = confusion_matrix(y_test, y_pred)\n",
        "print(\"\\nConfusion Matrix:\")\n",
        "print(conf_matrix)\n",
        "\n",
        "# Visualizing the confusion matrix using Seaborn\n",
        "sns.heatmap(conf_matrix, annot=True, fmt=\"d\", cmap=\"Blues\", xticklabels=[\"Not Spam\", \"Spam\"], yticklabels=[\"Not Spam\", \"Spam\"])\n",
        "plt.xlabel('Predicted Labels')\n",
        "plt.ylabel('True Labels')\n",
        "plt.title('Confusion Matrix')\n",
        "plt.show()\n",
        "# Calculate additional performance metrics\n",
        "accuracy = accuracy_score(y_test, y_pred)\n",
        "precision = precision_score(y_test, y_pred, average='weighted')\n",
        "recall = recall_score(y_test, y_pred, average='weighted')\n",
        "f1 = f1_score(y_test, y_pred, average='weighted')\n",
        "\n",
        "# Perform cross-validation\n",
        "cross_val_scores = cross_val_score(svm_model, X_scaled, y, cv=5)\n",
        "\n",
        "# Output the results\n",
        "print(\"Confusion Matrix:\\n\", conf_matrix)\n",
        "print(\"\\nClassification Report:\\n\", class_report)\n",
        "print(\"Accuracy: {:.2f}%\".format(accuracy * 100))\n",
        "print(\"Precision: {:.2f}%\".format(precision * 100))\n",
        "print(\"Recall: {:.2f}%\".format(recall * 100))\n",
        "print(\"F1-Score: {:.2f}%\".format(f1 * 100))\n",
        "print(\"\\nCross-Validation Mean Accuracy: {:.2f}%\".format(cross_val_scores.mean() * 100))\n"
      ],
      "metadata": {
        "colab": {
          "base_uri": "https://localhost:8080/",
          "height": 889
        },
        "id": "-yAYF49qa9Z6",
        "outputId": "5a2cac0e-eb5b-44e4-c771-b1d887b3d6a7"
      },
      "execution_count": 21,
      "outputs": [
        {
          "output_type": "stream",
          "name": "stdout",
          "text": [
            "\n",
            "Confusion Matrix:\n",
            "[[1091    6]\n",
            " [  90  365]]\n"
          ]
        },
        {
          "output_type": "display_data",
          "data": {
            "text/plain": [
              "<Figure size 640x480 with 2 Axes>"
            ],
            "image/png": "[encoded data removed]"
          },
          "metadata": {}
        },
        {
          "output_type": "stream",
          "name": "stdout",
          "text": [
            "Confusion Matrix:\n",
            " [[1091    6]\n",
            " [  90  365]]\n",
            "\n",
            "Classification Report:\n",
            "               precision    recall  f1-score   support\n",
            "\n",
            "           0       0.92      0.99      0.96      1097\n",
            "           1       0.98      0.80      0.88       455\n",
            "\n",
            "    accuracy                           0.94      1552\n",
            "   macro avg       0.95      0.90      0.92      1552\n",
            "weighted avg       0.94      0.94      0.94      1552\n",
            "\n",
            "Accuracy: 93.81%\n",
            "Precision: 94.14%\n",
            "Recall: 93.81%\n",
            "F1-Score: 93.61%\n",
            "\n",
            "Cross-Validation Mean Accuracy: 92.11%\n"
          ]
        }
      ]
    }
  ]
}